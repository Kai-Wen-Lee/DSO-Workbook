{
 "cells": [
  {
   "cell_type": "markdown",
   "id": "423fb389",
   "metadata": {},
   "source": [
    "# Chapter 1 - Single Variable Optmizers - Line Search\n",
    "\n",
    "### Contents: \n",
    "1. Introduction\n",
    "2. Bracketing and Golden Section Search\n",
    "4. Inverse Parabolic Interpolation\n",
    "6. Newton's Method\n"
   ]
  },
  {
   "cell_type": "markdown",
   "id": "3ce9a884",
   "metadata": {},
   "source": [
    "## 1. Introduction\n",
    "\n",
    "### Problem: \n",
    "We want to minimize a proble of a single real variable __without constraints__\n",
    "\n",
    "### Method 1:\n",
    "\n",
    "We can use differential calculus to achieve this:\n",
    "\n",
    "$$ f(x)=x^2-Ax-1 $$\n",
    "$$ f'(x)=2x-4 $$\n",
    "$$ f''(x)=2 $$\n",
    "\n",
    "And we have a minimum at 2\n",
    "But this fails for functions/data which are:\n",
    "1. Not continous \n",
    "2. Noisy \n",
    "3. Having multiple local max/minimums\n",
    "\n"
   ]
  },
  {
   "cell_type": "markdown",
   "id": "e409ed10",
   "metadata": {},
   "source": [
    "### Method 2: Bracketing & Golden Section Search\n",
    "\n",
    "We want to bracket the minimum of \n",
    "A bracket is a series of __three__ values of $ f(x) $ such that:\n",
    "\n",
    "- $f(x_{2}) < f(x_{1})$\n",
    "- $f(x_{2})<f(x_{3})$\n",
    "\n",
    "Steps:\n",
    "1. Guess two values of $ x $ and get the $ f(x) $ for these\n",
    "2. If $ f(x_{2}) $ is greater than  $ f(x_{3}) $ , add a new (extended) $ x_{3} $ and delete $ x_{1} $\n",
    "3. If $ f(x_{2}) $ is greater than  $ f(x_{1}) $ , add a new (extended) $ x_{1} $ and delete $ x_{3} $\n",
    "4. A bracket will be found if the conditions above are met\n",
    "    - Increasing step-size by 1.6180 constitutes the golden ratio method"
   ]
  },
  {
   "cell_type": "code",
   "execution_count": 14,
   "id": "618d754f-96b5-4414-b93e-d234038c4a2a",
   "metadata": {},
   "outputs": [
    {
     "name": "stdout",
     "output_type": "stream",
     "text": [
      "x:  1.618 f_x2:  -9.562596883102431\n",
      "x:  1.618 f_x2:  -9.562596883102431\n",
      "Bracketing interval: (1, 2)\n"
     ]
    },
    {
     "data": {
      "text/plain": [
       "<matplotlib.legend.Legend at 0x1a5d42af750>"
      ]
     },
     "execution_count": 14,
     "metadata": {},
     "output_type": "execute_result"
    },
    {
     "data": {
      "image/png": "[encoded data removed]",
      "text/plain": [
       "<Figure size 640x480 with 1 Axes>"
      ]
     },
     "metadata": {},
     "output_type": "display_data"
    }
   ],
   "source": [
    "### DO NOT USE FOR EXAM ###\n",
    "import numpy as np\n",
    "import matplotlib.pyplot as plt\n",
    "\n",
    "def f_x(x):\n",
    "    return x**5.0 - 2.0 * x**3.0 - 10.0 * x + 4.0\n",
    "\n",
    "def bracketing(f, x=0.5, k=1.618):\n",
    "    x1, x2, x3 = 1, 1*k, 2\n",
    "    \n",
    "    f_x1, f_x2, f_x3 = f(x1), f(x2), f(x3)\n",
    "    print('x: ',x2,'f_x2: ',f_x2)\n",
    "    while True:\n",
    "        if f_x2 < f_x1 and f_x2 < f_x3:\n",
    "            # If the function value at x2 is less than at x1 and x3, return the bracket\n",
    "            print('x: ',x2,'f_x2: ',f_x2)\n",
    "            return x1, x3\n",
    "        elif f_x2 > f_x3:\n",
    "            # If the function value at x2 is greater than at x3, move x1 to x2 and extend x3\n",
    "            x1, x2, x3 = x2, x3, x3 + (x3-x2)*k\n",
    "            f_x1, f_x2, f_x3 = f_x2, f_x3, f(x3)\n",
    "            print('x: ',x2,'f_x2: ',f_x2)\n",
    "        else:\n",
    "            # If the function value at x2 is greater than at x1, move x3 to x2 and extend x1\n",
    "            x1, x2, x3 = x1 - (x2-x1)*k, x1, x2\n",
    "            f_x1, f_x2, f_x3 = f(x1), f_x1, f_x2\n",
    "            print('x: ',x2,'f_x2: ',f_x2)\n",
    "\n",
    "# Example usage\n",
    "bracket = bracketing(f_x)\n",
    "print(\"Bracketing interval:\", bracket)\n",
    "\n",
    "# Plot to demosntrate this graphically\n",
    "X=np.linspace(0.5,2,1000)\n",
    "plt.plot(X,f_x(X))\n",
    "plt.axvline(x=bracket[0], color='r', linestyle='--', label='Bracketing Interval')\n",
    "plt.axvline(x=bracket[1], color='r', linestyle='--')\n",
    "plt.legend()"
   ]
  },
  {
   "cell_type": "markdown",
   "id": "3f6e925f-a62e-4fc0-b0b0-1a41c376dbe2",
   "metadata": {},
   "source": [
    "We can then fit a polynomial function (quadratic in this case) to find the minimum. \n",
    "* If a minimum is not found increase step-size by k\n",
    "\n",
    "#### Benefits of bracketing search\n",
    "Bracketing methods, despite their limitations, offer several advantages in optimization:\n",
    "\n",
    "1. **Guaranteed Convergence**: Bracketing methods guarantee convergence to a local minimum within a specified bracketing interval, provided the function is unimodal within that interval. This makes them reliable for finding at least one local minimum.\n",
    "\n",
    "2. **Simplicity**: Bracketing methods are relatively simple and intuitive to implement. They involve iteratively expanding or contracting a bracketing interval based on function evaluations, making them accessible to both beginners and experienced practitioners.\n",
    "\n",
    "3. **No Derivative Information Required**: Bracketing methods do not require derivative information (such as gradients or Hessians) of the objective function. This makes them applicable to a wide range of functions, including non-smooth or discontinuous functions.\n",
    "\n",
    "4. **Robustness**: Bracketing methods are generally robust against noise or fluctuations in the objective function. Since they rely on function evaluations rather than derivatives, they can handle functions with irregular behavior or noise more gracefully.\n",
    "\n",
    "5. **Global Optimization**: While bracketing methods focus on finding local minima, they can also be used as part of global optimization strategies. By applying bracketing methods iteratively from multiple starting points, it's possible to explore the entire search space more comprehensively.\n",
    "\n",
    "6. **Parallelizable**: Bracketing methods are inherently parallelizable, as the evaluation of function values at different points can be performed independently. This makes them suitable for parallel or distributed computing environments, where multiple function evaluations can be conducted simultaneously.\n",
    "\n",
    "7. **Applicability to Black-Box Optimization**: Bracketing methods are well-suited for black-box optimization scenarios, where the underlying function is unknown or difficult to model analytically. They rely solely on function evaluations and do not require any knowledge of the function's analytical form.\n",
    "\n",
    "8. **Flexibility**: Bracketing methods can be adapted and combined with other optimization techniques to improve their performance or address specific challenges. For example, they can be integrated with derivative-based methods for hybrid optimization schemes.\n",
    "\n",
    "Overall, bracketing methods offer a balance of simplicity, robustness, and effectiveness, making them valuable tools in the optimization toolbox for both theoretical analysis and practical applications.\n",
    "\n",
    "#### Downsides\n",
    "Bracket search, like any optimization algorithm, has its limitations and potential downsides:\n",
    "\n",
    "1. **Convergence Rate**: Bracketing methods might converge slowly, especially if the bracketing interval is initially wide or if the function has irregular behavior (e.g., oscillations) within the bracketing interval. This can result in a larger number of iterations required to find the minimum.\n",
    "\n",
    "2. **Sensitivity to Initial Guess**: The effectiveness of bracketing methods can be sensitive to the choice of initial guess and step size. An inappropriate initial guess or step size might lead to failure in bracketing the minimum or an inefficient search process.\n",
    "\n",
    "3. **Assumption of Unimodal Functions**: Bracketing methods typically assume that the function being optimized is unimodal within the bracketing interval (i.e., it has only one minimum). If the function is multimodal or has multiple local minima within the interval, bracketing methods might fail to find the global minimum.\n",
    "\n",
    "4. **Limited to Single-Variable Optimization**: Bracketing methods are generally designed for optimizing single-variable functions. They might not be directly applicable to multi-variable optimization problems without appropriate modifications or extensions.\n",
    "\n",
    "5. **Computationally Intensive**: In some cases, bracketing methods might require a relatively large number of function evaluations to converge to a satisfactory solution, especially if the function evaluations are computationally expensive.\n",
    "\n",
    "6. **Not Suitable for Noisy Functions**: Bracketing methods might struggle with functions that exhibit significant noise or fluctuations, as these can lead to erroneous decisions about the direction of the bracketing steps.\n",
    "\n",
    "7. **Robustness**: Bracketing methods might not always guarantee robustness against certain types of pathological functions or corner cases. Careful consideration and testing are necessary to ensure the reliability and robustness of the algorithm.\n",
    "\n",
    "Despite these potential downsides, bracketing methods can still be effective and useful in many optimization scenarios, particularly when dealing with smooth and well-behaved functions, and when combined with other optimization techniques for improved performance and robustness."
   ]
  },
  {
   "cell_type": "markdown",
   "id": "4dcafd3f-e55e-4af6-95d3-f327582dae4b",
   "metadata": {},
   "source": [
    "### Method 4: Inverse parabolic interpolation\n",
    "\n",
    "Inverse parabolic interpolation is a method used in optimization algorithms to refine an estimate of the location of the minimum (or maximum) of a function. It is often employed in combination with bracketing methods to improve the accuracy of the estimated minimum.\n",
    "\n",
    "The basic idea of inverse parabolic interpolation is to fit a parabola to three points (let's call them \\( x_1 \\), \\( x_2 \\), and \\( x_3 \\)) in such a way that the minimum of the parabola corresponds to a better estimate of the minimum of the function. This parabola is then used to calculate a refined estimate of the minimum.\n",
    "\n",
    "Here are the general steps involved in inverse parabolic interpolation:\n",
    "\n",
    "1. Choose three distinct points \\( x_1 \\), \\( x_2 \\), and \\( x_3 \\) that bracket the minimum of the function.\n",
    "2. Evaluate the function values \\( f(x_1) \\), \\( f(x_2) \\), and \\( f(x_3) \\) at these points.\n",
    "3. Fit a parabola to these three points. This involves solving a system of equations to find the coefficients of the parabola that passes through the three points.\n",
    "4. Calculate the minimum of the parabola. This is done by finding the \\( x \\)-coordinate of the vertex of the parabola, which corresponds to the refined estimate of the minimum of the function.\n",
    "5. Use this refined estimate as the new \\( x_3 \\) and repeat the process until convergence or a desired level of accuracy is achieved.\n",
    "\n",
    "Inverse parabolic interpolation is particularly useful when combined with bracketing methods like the Brent's method or the Golden-section search, as it helps to refine the estimate of the minimum within the bracketing interval. It can improve the convergence rate and accuracy of the optimization algorithm, especially in cases where the function is smooth and well-behaved."
   ]
  },
  {
   "cell_type": "code",
   "execution_count": 3,
   "id": "cb3982f6-3041-432a-9749-6ae69aa0a927",
   "metadata": {},
   "outputs": [
    {
     "name": "stdout",
     "output_type": "stream",
     "text": [
      "Refined estimate of the minimum: 1.9999999999999987\n"
     ]
    }
   ],
   "source": [
    "def inverse_parabolic_interpolation(f, x1, x2, x3, tol=1e-6, max_iter=100):\n",
    "    \"\"\"\n",
    "    Perform inverse parabolic interpolation to refine the estimate of the minimum of the function f.\n",
    "    \n",
    "    Parameters:\n",
    "        f (function): The objective function to minimize.\n",
    "        x1, x2, x3 (float): Three distinct points that bracket the minimum.\n",
    "        tol (float): Tolerance for convergence.\n",
    "        max_iter (int): Maximum number of iterations.\n",
    "        \n",
    "    Returns:\n",
    "        float: Refined estimate of the minimum.\n",
    "    \"\"\"\n",
    "    for _ in range(max_iter):\n",
    "        # Evaluate function values at the three points\n",
    "        f1, f2, f3 = f(x1), f(x2), f(x3)\n",
    "        \n",
    "        # Fit a quadratic polynomial through the three points\n",
    "        coeff = np.polyfit([x1, x2, x3], [f1, f2, f3], 2)\n",
    "        \n",
    "        # Find the minimum of the polynomial\n",
    "        a, b, c = coeff\n",
    "        x_min = -b / (2 * a)\n",
    "        \n",
    "        # Check convergence\n",
    "        if abs(x_min - x2) < tol:\n",
    "            return x_min\n",
    "        \n",
    "        # Update x3\n",
    "        x3 = x2\n",
    "        x2 = x_min\n",
    "    \n",
    "    raise RuntimeError(\"Inverse parabolic interpolation did not converge within the maximum number of iterations.\")\n",
    "\n",
    "# Example usage:\n",
    "def f(x):\n",
    "    return x**2 - 4*x + 4  # Example function: (x-2)^2, minimum at x=2\n",
    "\n",
    "x1 = 0.5\n",
    "x2 = 1.0\n",
    "x3 = 1.5\n",
    "\n",
    "refined_min = inverse_parabolic_interpolation(f, x1, x2, x3)\n",
    "print(\"Refined estimate of the minimum:\", refined_min)"
   ]
  },
  {
   "cell_type": "markdown",
   "id": "35f7a89e-c2d3-4f0e-a26e-26a869cef0ce",
   "metadata": {},
   "source": [
    "### Method 5: Newton's Method\n",
    "\n",
    "Refer numerical methods notes + GitHub "
   ]
  },
  {
   "cell_type": "code",
   "execution_count": 2,
   "id": "fad91f1a-39d7-4ede-b81f-ce9b0084c342",
   "metadata": {},
   "outputs": [],
   "source": [
    "#Example code copy and paste from GitHub of Numerical Methods here"
   ]
  },
  {
   "cell_type": "code",
   "execution_count": null,
   "id": "d1f39614-f620-4159-8118-8f0c30e699c8",
   "metadata": {},
   "outputs": [],
   "source": []
  }
 ],
 "metadata": {
  "kernelspec": {
   "display_name": "Python 3 (ipykernel)",
   "language": "python",
   "name": "python3"
  },
  "language_info": {
   "codemirror_mode": {
    "name": "ipython",
    "version": 3
   },
   "file_extension": ".py",
   "mimetype": "text/x-python",
   "name": "python",
   "nbconvert_exporter": "python",
   "pygments_lexer": "ipython3",
   "version": "3.11.1"
  }
 },
 "nbformat": 4,
 "nbformat_minor": 5
}

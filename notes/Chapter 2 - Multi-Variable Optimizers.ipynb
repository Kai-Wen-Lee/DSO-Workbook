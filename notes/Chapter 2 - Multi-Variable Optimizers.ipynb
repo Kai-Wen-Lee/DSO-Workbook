{
 "cells": [
  {
   "cell_type": "markdown",
   "id": "5282d98f",
   "metadata": {},
   "source": [
    "### Steepest Descent Approaches\n",
    "\n",
    "Simplex Algorith\n"
   ]
  },
  {
   "cell_type": "markdown",
   "id": "301425db",
   "metadata": {},
   "source": [
    "### Genetic Algorithm\n",
    "\n",
    "* Also known as evolutionary search\n"
   ]
  },
  {
   "cell_type": "code",
   "execution_count": null,
   "id": "08e7d200",
   "metadata": {},
   "outputs": [],
   "source": []
  }
 ],
 "metadata": {
  "kernelspec": {
   "display_name": "Python 3 (ipykernel)",
   "language": "python",
   "name": "python3"
  },
  "language_info": {
   "codemirror_mode": {
    "name": "ipython",
    "version": 3
   },
   "file_extension": ".py",
   "mimetype": "text/x-python",
   "name": "python",
   "nbconvert_exporter": "python",
   "pygments_lexer": "ipython3",
   "version": "3.11.1"
  }
 },
 "nbformat": 4,
 "nbformat_minor": 5
}
